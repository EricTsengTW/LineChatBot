{
 "cells": [
  {
   "cell_type": "code",
   "execution_count": 5,
   "metadata": {},
   "outputs": [
    {
     "name": "stdout",
     "output_type": "stream",
     "text": [
      "{'user_ID': 'Eric Tseng', 'character': ['在職工作者'], 'finding_job': [], 'good_cv': [], 'good_pic': [], 'good_conf': [], 'satisfy_job': ['還行'], 'curious_sal': ['挺好奇的'], 'menu': []}\n"
     ]
    }
   ],
   "source": [
    "import json\n",
    "fn = 'Eric Tseng'\n",
    "dn = \"user_message/\" + fn + \".json\"\n",
    "with open(dn, \"r\") as f:\n",
    "    data = json.load(f)\n",
    "    "
   ]
  },
  {
   "cell_type": "code",
   "execution_count": 11,
   "metadata": {},
   "outputs": [],
   "source": [
    "if data['character'] == []:\n",
    "    print('empty')\n",
    "# print(data['finding_job'][]])"
   ]
  }
 ],
 "metadata": {
  "kernelspec": {
   "display_name": "Python 3",
   "language": "python",
   "name": "python3"
  },
  "language_info": {
   "codemirror_mode": {
    "name": "ipython",
    "version": 3
   },
   "file_extension": ".py",
   "mimetype": "text/x-python",
   "name": "python",
   "nbconvert_exporter": "python",
   "pygments_lexer": "ipython3",
   "version": "3.7.3"
  }
 },
 "nbformat": 4,
 "nbformat_minor": 2
}
